{
 "cells": [
  {
   "cell_type": "code",
   "execution_count": null,
   "metadata": {},
   "outputs": [],
   "source": [
    "import openpyxl\n",
    "import pandas as pd\n",
    "import json\n",
    "import os\n",
    "import time\n",
    "import re\n",
    "import openai\n",
    "from concurrent.futures import ThreadPoolExecutor"
   ]
  },
  {
   "cell_type": "code",
   "execution_count": null,
   "metadata": {},
   "outputs": [],
   "source": [
    "from openai import OpenAI #estamos la clase concreta OpenAI del módulo openai\n",
    "from dotenv import load_dotenv #importamos una función concreta del módulo\n",
    "import os\n",
    "\n",
    "load_dotenv(\"template.env\")\n",
    "\n",
    "# Acceder a la clave de API de OpenAI\n",
    "api_key = os.getenv(\"OPENAI_API_KEY\")\n",
    "\n",
    "# Asegurarte de que la clave de API se haya cargado correctamente\n",
    "if api_key is None:\n",
    "    raise ValueError(\"La clave de API no está configurada en el archivo .env\")\n",
    "    \n",
    "client = OpenAI() #creando un objeto de la clase"
   ]
  },
  {
   "cell_type": "code",
   "execution_count": null,
   "metadata": {},
   "outputs": [],
   "source": [
    "dataset_path = \"MMLU_completo.xlsx\"\n",
    "\n",
    "df = pd.read_excel(dataset_path)\n",
    "#df = df.sample(20) #QUITAR ESTA LÍNEA PARA PROCESAR TODO EL DATASET\n",
    "df = df.sample(5) \n",
    "df.head()\n",
    "\n",
    "#for i in range(0,5):\n",
    "#\tprint(df.values[i])"
   ]
  },
  {
   "cell_type": "code",
   "execution_count": null,
   "metadata": {},
   "outputs": [],
   "source": [
    "def generate_description(instr,op_a,op_b,op_c,op_d):\n",
    "\tdescription = json.dumps({\n",
    "        \"instruction\": instr,\n",
    "        \"options\": {\n",
    "            \"A\": op_a,\n",
    "            \"B\": op_b,\n",
    "            \"C\": op_c,\n",
    "            \"D\": op_d\n",
    "        }\n",
    "    })\n",
    "\treturn description\n",
    "\n",
    "def generate_task(index,prompt,desc):\n",
    "\ttask = {\n",
    "        \"custom_id\": f\"task-{index}\",\n",
    "        \"method\": \"POST\",\n",
    "        \"url\": \"/v1/chat/completions\",\n",
    "        \"body\": {\n",
    "            # Esto es lo que tendrías en tu llamada a la API de Chat Completions\n",
    "            \"model\": \"gpt-4o-mini\",\n",
    "            \"temperature\": 0,\n",
    "            \"response_format\": { \n",
    "                \"type\": \"json_object\"\n",
    "            },\n",
    "            \"messages\": [\n",
    "                {\n",
    "                    \"role\": \"system\",\n",
    "                    \"content\": prompt\n",
    "                },\n",
    "                {\n",
    "                    \"role\": \"user\",\n",
    "                    \"content\": desc\n",
    "                }\n",
    "            ],\n",
    "        }\n",
    "    }\n",
    "\treturn task"
   ]
  },
  {
   "cell_type": "code",
   "execution_count": null,
   "metadata": {},
   "outputs": [],
   "source": [
    "def jsonfile_to_dataframe(jsonl_file):\n",
    "    with open(jsonl_file, 'r') as file:\n",
    "        instruc = []\n",
    "        ops_a = []\n",
    "        ops_b = []\n",
    "        ops_c = []\n",
    "        ops_d = []\n",
    "    \n",
    "        for line in file:\n",
    "            new_line = json.loads(line)\n",
    "            new_line = new_line[\"response\"][\"body\"][\"choices\"][0][\"message\"][\"content\"]\n",
    "            new_line = json.loads(new_line)\n",
    "        \n",
    "            instruc.append(new_line[\"paraphrased_question\"])\n",
    "            ops_a.append(new_line[\"option_a\"])\n",
    "            ops_b.append(new_line[\"option_b\"])\n",
    "            ops_c.append(new_line[\"option_c\"])\n",
    "            ops_d.append(new_line[\"option_d\"])\n",
    "    \n",
    "        data = {\n",
    "            \"instruction\":instruc,\n",
    "            \"option_a\":ops_a,\n",
    "            \"option_b\":ops_b,\n",
    "            \"option_c\":ops_c,\n",
    "            \"option_d\":ops_d,\n",
    "    \t}\n",
    "\n",
    "    return (pd.DataFrame(data))"
   ]
  },
  {
   "cell_type": "code",
   "execution_count": null,
   "metadata": {},
   "outputs": [],
   "source": [
    "def create_task_array(df,prompt):\n",
    "    tasks = []\n",
    "\n",
    "    for index, row in df.iterrows():\n",
    "    \n",
    "        # Extraer las columnas necesarias del DataFrame\n",
    "        instruction = row['instruction']\n",
    "        option_a = row['option_a']\n",
    "        option_b = row['option_b']\n",
    "        option_c = row['option_c']\n",
    "        option_d = row['option_d']\n",
    "    \n",
    "        description = generate_description(\n",
    "            instruction, option_a, option_b, option_c, option_d,\n",
    "\t    )\n",
    "    \n",
    "        task = generate_task(\n",
    "            index, prompt,description,\n",
    "\t    )\n",
    "    \n",
    "        tasks.append(task)\n",
    "    return tasks"
   ]
  },
  {
   "cell_type": "code",
   "execution_count": null,
   "metadata": {},
   "outputs": [],
   "source": [
    "categorize_system_prompt_paraphrase ='''\n",
    "Your goal is to paraphrase multiple choice questions from JSON objects. You will be provided with a JSON object containing a multiple choice question and you will output a JSON object with the reworded question.\n",
    "\n",
    "For each row paraphrase the question while maintaining the original meaning and paraphrase the options as well. Ensure the paraphrase is at least 500 characters long between options and question.\n",
    "\n",
    "The output JSON objects should be in the following format:\n",
    "\n",
    "{paraphrased_question: string, option_a: string, option_b: string, option_c: string, option_d: string,}\n",
    "\n",
    "Ensure that the question is presented differently but conveys the same idea. Keep the JSON format in the output with '{' and '}'.\n",
    "'''"
   ]
  },
  {
   "cell_type": "code",
   "execution_count": null,
   "metadata": {},
   "outputs": [],
   "source": [
    "categorize_system_prompt_answer = '''\n",
    "Your goal is to evaluate multiple choice questions from JSON objects. You will be provided with a JSON object containing a multiple choice question and you will output a JSON object with the evaluation of the question.\n",
    "\n",
    "For each row evaluate the question.\n",
    "\n",
    "The output JSON objects should be in the following format:\n",
    "\n",
    "{answer: string, // The selected option key for the question, limited to 'A', 'B', 'C', or 'D'}\n",
    "\n",
    "Keep the JSON format in the answer with '{' and '}'.\n",
    "'''"
   ]
  },
  {
   "cell_type": "code",
   "execution_count": null,
   "metadata": {},
   "outputs": [],
   "source": [
    "def create_file_from_tasks(tasks,file_name):\n",
    "\twith open(file_name, 'w') as file:\n",
    "\t\tfor obj in tasks:\n",
    "\t\t\tfile.write(json.dumps(obj) + '\\n')\n",
    "\t"
   ]
  },
  {
   "cell_type": "code",
   "execution_count": null,
   "metadata": {},
   "outputs": [],
   "source": [
    "def create_batch(file_name):\n",
    "\tbatch_file = client.files.create(\n",
    "\t\tfile=open(file_name, \"rb\"),\n",
    "\t\tpurpose=\"batch\"\n",
    "\t)\n",
    "\tbatch_job = client.batches.create(\n",
    "\t\tinput_file_id=batch_file.id,\n",
    "\t\tendpoint=\"/v1/chat/completions\",\n",
    "\t\tcompletion_window=\"24h\"\n",
    "\t)\n",
    "\treturn batch_job"
   ]
  },
  {
   "cell_type": "code",
   "execution_count": null,
   "metadata": {},
   "outputs": [],
   "source": [
    "tasks_array = [create_task_array(df,categorize_system_prompt_paraphrase)]\n",
    "file_array = [\"batch_job_mmlu_paraphrase.jsonl\"]\n",
    "\n",
    "batch_jobs = []\n",
    "for i in range(0,len(tasks_array)):\n",
    "\tcreate_file_from_tasks(tasks_array[i],file_array[i])\n",
    "\tba_jo= create_batch(file_array[i])\n",
    "\tbatch_jobs.append(ba_jo)"
   ]
  },
  {
   "cell_type": "code",
   "execution_count": null,
   "metadata": {},
   "outputs": [],
   "source": [
    "for i in range(0,len(batch_jobs)):\n",
    "\tbatch = batch_jobs[i]\n",
    "\tbatch = client.batches.retrieve(batch.id)\n",
    "\tprint(batch)\n",
    "\tresult_file_id = batch.output_file_id\n",
    "\tprint(batch.status)"
   ]
  },
  {
   "cell_type": "code",
   "execution_count": null,
   "metadata": {},
   "outputs": [],
   "source": [
    "for i in range(0,len(batch_jobs)):\n",
    "\tbatch = batch_jobs[i]\n",
    "\tbatch = client.batches.retrieve(batch.id)\n",
    "\tresult_file_id = batch.output_file_id\n",
    "\n",
    "\tresult = client.files.content(result_file_id).content\n",
    "\n",
    "\tresult_file_name = file_array[i].replace(\".json\",\"_result.json\")\n",
    "\n",
    "\twith open(result_file_name, 'wb') as file:\n",
    "\t\tfile.write(result)"
   ]
  }
 ],
 "metadata": {
  "kernelspec": {
   "display_name": ".venv",
   "language": "python",
   "name": "python3"
  },
  "language_info": {
   "codemirror_mode": {
    "name": "ipython",
    "version": 3
   },
   "file_extension": ".py",
   "mimetype": "text/x-python",
   "name": "python",
   "nbconvert_exporter": "python",
   "pygments_lexer": "ipython3",
   "version": "3.13.2"
  }
 },
 "nbformat": 4,
 "nbformat_minor": 2
}
